{
  "nbformat": 4,
  "nbformat_minor": 0,
  "metadata": {
    "colab": {
      "provenance": [],
      "authorship_tag": "ABX9TyMmUHq++5TS3/w/fNxNzZcF",
      "include_colab_link": true
    },
    "kernelspec": {
      "name": "python3",
      "display_name": "Python 3"
    },
    "language_info": {
      "name": "python"
    }
  },
  "cells": [
    {
      "cell_type": "markdown",
      "metadata": {
        "id": "view-in-github",
        "colab_type": "text"
      },
      "source": [
        "<a href=\"https://colab.research.google.com/github/fatasa/TeksMining/blob/main/TM_TugasPertemuan3.ipynb\" target=\"_parent\"><img src=\"https://colab.research.google.com/assets/colab-badge.svg\" alt=\"Open In Colab\"/></a>"
      ]
    },
    {
      "cell_type": "code",
      "execution_count": 1,
      "metadata": {
        "id": "UZQezOHT5uWL"
      },
      "outputs": [],
      "source": [
        "paragraf = \"Setiap hari Rabu ada jadwal mata kuliah Penambangan Teks. Mata kuliah ini merupakan mata kuliah pilihan di semester 7. Ada 14 mahasiswi yang mengambil mata kuliah ini. Mata kuliah ini adalah lanjutan dari mata kuliah prasyarat, Penambangan Data.\""
      ]
    },
    {
      "cell_type": "code",
      "source": [
        "!pip install Sastrawi"
      ],
      "metadata": {
        "colab": {
          "base_uri": "https://localhost:8080/"
        },
        "id": "dFbBMsX6CSoq",
        "outputId": "f16f41fe-99b7-4d4b-cb00-14f1a67f8eaf"
      },
      "execution_count": 2,
      "outputs": [
        {
          "output_type": "stream",
          "name": "stdout",
          "text": [
            "Looking in indexes: https://pypi.org/simple, https://us-python.pkg.dev/colab-wheels/public/simple/\n",
            "Requirement already satisfied: Sastrawi in /usr/local/lib/python3.10/dist-packages (1.0.1)\n"
          ]
        }
      ]
    },
    {
      "cell_type": "code",
      "source": [
        "!pip install nltk"
      ],
      "metadata": {
        "colab": {
          "base_uri": "https://localhost:8080/"
        },
        "id": "Q9TvVd6nCgnA",
        "outputId": "96a2b8a2-81d7-4611-f010-2204d44e8269"
      },
      "execution_count": 3,
      "outputs": [
        {
          "output_type": "stream",
          "name": "stdout",
          "text": [
            "Looking in indexes: https://pypi.org/simple, https://us-python.pkg.dev/colab-wheels/public/simple/\n",
            "Requirement already satisfied: nltk in /usr/local/lib/python3.10/dist-packages (3.8.1)\n",
            "Requirement already satisfied: click in /usr/local/lib/python3.10/dist-packages (from nltk) (8.1.3)\n",
            "Requirement already satisfied: joblib in /usr/local/lib/python3.10/dist-packages (from nltk) (1.2.0)\n",
            "Requirement already satisfied: regex>=2021.8.3 in /usr/local/lib/python3.10/dist-packages (from nltk) (2022.10.31)\n",
            "Requirement already satisfied: tqdm in /usr/local/lib/python3.10/dist-packages (from nltk) (4.65.0)\n"
          ]
        }
      ]
    },
    {
      "cell_type": "code",
      "source": [
        "import nltk\n",
        "nltk.download('punkt')"
      ],
      "metadata": {
        "colab": {
          "base_uri": "https://localhost:8080/"
        },
        "id": "jCdwj46cM6mG",
        "outputId": "662e1635-509f-4019-b784-fec849de17e6"
      },
      "execution_count": 4,
      "outputs": [
        {
          "output_type": "stream",
          "name": "stderr",
          "text": [
            "[nltk_data] Downloading package punkt to /root/nltk_data...\n",
            "[nltk_data]   Package punkt is already up-to-date!\n"
          ]
        },
        {
          "output_type": "execute_result",
          "data": {
            "text/plain": [
              "True"
            ]
          },
          "metadata": {},
          "execution_count": 4
        }
      ]
    },
    {
      "cell_type": "code",
      "source": [
        "import re \n",
        "import string\n",
        "from Sastrawi.StopWordRemover.StopWordRemoverFactory import StopWordRemoverFactory\n",
        "from nltk.tokenize import word_tokenize \n",
        "from Sastrawi.Stemmer.StemmerFactory import StemmerFactory\n",
        "\n",
        "# Lexical Analysis\n",
        "lower_case = paragraf.lower()\n",
        "remove_number = re.sub(r\"\\d+\", \"\", lower_case)\n",
        "remove_punctuation = remove_number.translate(str.maketrans(\"\",\"\",string.punctuation))\n",
        "hasil = remove_punctuation.strip()\n",
        "\n",
        "token = re.split(r'\\s+', hasil)\n",
        "\n",
        "# Stopword Removal\n",
        "stop_factory = StopWordRemoverFactory().get_stop_words()\n",
        "more_stopword = ['daring', 'online']\n",
        "factory = StopWordRemoverFactory()\n",
        "stopword = factory.create_stop_word_remover()\n",
        "\n",
        "# Stemming\n",
        "stem = StemmerFactory()\n",
        "stemmer = stem.create_stemmer()\n",
        "\n",
        "stop = stopword.remove(hasil)\n",
        "filtering = nltk.tokenize.word_tokenize(stop)\n",
        "steming = stemmer.stem(stop)\n",
        "stemming = nltk.tokenize.word_tokenize(steming)\n",
        "\n",
        "print(token)\n",
        "print(filtering)\n",
        "print(stemming)"
      ],
      "metadata": {
        "colab": {
          "base_uri": "https://localhost:8080/"
        },
        "id": "fc3g5kQhBPQs",
        "outputId": "0008490f-143f-4bf7-c00f-cea745e3306c"
      },
      "execution_count": 5,
      "outputs": [
        {
          "output_type": "stream",
          "name": "stdout",
          "text": [
            "['setiap', 'hari', 'rabu', 'ada', 'jadwal', 'mata', 'kuliah', 'penambangan', 'teks', 'mata', 'kuliah', 'ini', 'merupakan', 'mata', 'kuliah', 'pilihan', 'di', 'semester', 'ada', 'mahasiswi', 'yang', 'mengambil', 'mata', 'kuliah', 'ini', 'mata', 'kuliah', 'ini', 'adalah', 'lanjutan', 'dari', 'mata', 'kuliah', 'prasyarat', 'penambangan', 'data']\n",
            "['hari', 'rabu', 'jadwal', 'mata', 'kuliah', 'penambangan', 'teks', 'mata', 'kuliah', 'merupakan', 'mata', 'kuliah', 'pilihan', 'semester', 'mahasiswi', 'mengambil', 'mata', 'kuliah', 'mata', 'kuliah', 'adalah', 'lanjutan', 'mata', 'kuliah', 'prasyarat', 'penambangan', 'data']\n",
            "['hari', 'rabu', 'jadwal', 'mata', 'kuliah', 'tambang', 'teks', 'mata', 'kuliah', 'rupa', 'mata', 'kuliah', 'pilih', 'semester', 'mahasiswi', 'ambil', 'mata', 'kuliah', 'mata', 'kuliah', 'adalah', 'lanjut', 'mata', 'kuliah', 'prasyarat', 'tambang', 'data']\n"
          ]
        }
      ]
    },
    {
      "cell_type": "code",
      "source": [
        "# Type and Term\n",
        "set(stemming)"
      ],
      "metadata": {
        "colab": {
          "base_uri": "https://localhost:8080/"
        },
        "id": "NQMvdObOOxAd",
        "outputId": "a1af4049-39e7-452f-fecd-af82227947f6"
      },
      "execution_count": 6,
      "outputs": [
        {
          "output_type": "execute_result",
          "data": {
            "text/plain": [
              "{'adalah',\n",
              " 'ambil',\n",
              " 'data',\n",
              " 'hari',\n",
              " 'jadwal',\n",
              " 'kuliah',\n",
              " 'lanjut',\n",
              " 'mahasiswi',\n",
              " 'mata',\n",
              " 'pilih',\n",
              " 'prasyarat',\n",
              " 'rabu',\n",
              " 'rupa',\n",
              " 'semester',\n",
              " 'tambang',\n",
              " 'teks'}"
            ]
          },
          "metadata": {},
          "execution_count": 6
        }
      ]
    }
  ]
}