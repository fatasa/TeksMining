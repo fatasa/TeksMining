{
 "cells": [
  {
   "cell_type": "markdown",
   "id": "e4a24a3a",
   "metadata": {},
   "source": [
    "**Masukkan Library**"
   ]
  },
  {
   "cell_type": "code",
   "execution_count": 1,
   "id": "cdf6d27d",
   "metadata": {},
   "outputs": [],
   "source": [
    "import pandas as pd\n",
    "import numpy as np\n",
    "import re\n",
    "import nltk\n",
    "import string\n",
    "import matplotlib.pyplot as plt\n",
    "\n",
    "from nltk.tokenize import word_tokenize\n",
    "from nltk.corpus import stopwords\n",
    "from nltk.stem import PorterStemmer"
   ]
  },
  {
   "cell_type": "markdown",
   "id": "0eba9162",
   "metadata": {},
   "source": [
    "**Masukkan File**"
   ]
  },
  {
   "cell_type": "code",
   "execution_count": 2,
   "id": "cdcb448f",
   "metadata": {},
   "outputs": [
    {
     "data": {
      "text/html": [
       "<div>\n",
       "<style scoped>\n",
       "    .dataframe tbody tr th:only-of-type {\n",
       "        vertical-align: middle;\n",
       "    }\n",
       "\n",
       "    .dataframe tbody tr th {\n",
       "        vertical-align: top;\n",
       "    }\n",
       "\n",
       "    .dataframe thead th {\n",
       "        text-align: right;\n",
       "    }\n",
       "</style>\n",
       "<table border=\"1\" class=\"dataframe\">\n",
       "  <thead>\n",
       "    <tr style=\"text-align: right;\">\n",
       "      <th></th>\n",
       "      <th>Sentence</th>\n",
       "      <th>Sentiment</th>\n",
       "    </tr>\n",
       "  </thead>\n",
       "  <tbody>\n",
       "    <tr>\n",
       "      <th>0</th>\n",
       "      <td>The GeoSolutions technology will leverage Bene...</td>\n",
       "      <td>positive</td>\n",
       "    </tr>\n",
       "    <tr>\n",
       "      <th>1</th>\n",
       "      <td>$ESI on lows, down $1.50 to $2.50 BK a real po...</td>\n",
       "      <td>negative</td>\n",
       "    </tr>\n",
       "    <tr>\n",
       "      <th>2</th>\n",
       "      <td>For the last quarter of 2010 , Componenta 's n...</td>\n",
       "      <td>positive</td>\n",
       "    </tr>\n",
       "    <tr>\n",
       "      <th>3</th>\n",
       "      <td>According to the Finnish-Russian Chamber of Co...</td>\n",
       "      <td>neutral</td>\n",
       "    </tr>\n",
       "    <tr>\n",
       "      <th>4</th>\n",
       "      <td>The Swedish buyout firm has sold its remaining...</td>\n",
       "      <td>neutral</td>\n",
       "    </tr>\n",
       "  </tbody>\n",
       "</table>\n",
       "</div>"
      ],
      "text/plain": [
       "                                            Sentence Sentiment\n",
       "0  The GeoSolutions technology will leverage Bene...  positive\n",
       "1  $ESI on lows, down $1.50 to $2.50 BK a real po...  negative\n",
       "2  For the last quarter of 2010 , Componenta 's n...  positive\n",
       "3  According to the Finnish-Russian Chamber of Co...   neutral\n",
       "4  The Swedish buyout firm has sold its remaining...   neutral"
      ]
     },
     "execution_count": 2,
     "metadata": {},
     "output_type": "execute_result"
    }
   ],
   "source": [
    "file = 'data.csv'\n",
    "data = pd.read_csv(file)\n",
    "data.head()"
   ]
  },
  {
   "cell_type": "markdown",
   "id": "6166bb09",
   "metadata": {},
   "source": [
    "**Text Preprocessing**"
   ]
  },
  {
   "cell_type": "code",
   "execution_count": 3,
   "id": "3be15b47",
   "metadata": {},
   "outputs": [
    {
     "data": {
      "text/plain": [
       "0    geosolut technolog leverag benefon gp solut pr...\n",
       "1                              esi low bk real possibl\n",
       "2    last quarter componenta net sale doubl eur eur...\n",
       "3    accord finnish russian chamber commerc major c...\n",
       "4    swedish buyout firm sold remain percent stake ...\n",
       "Name: ScanSentence, dtype: object"
      ]
     },
     "execution_count": 3,
     "metadata": {},
     "output_type": "execute_result"
    }
   ],
   "source": [
    "# stemming data\n",
    "stemmer = PorterStemmer()\n",
    "stop_words = set(stopwords.words('english'))\n",
    "\n",
    "def ScanSentence(text):\n",
    "    # ubah ke lower case\n",
    "    text = text.lower()\n",
    "    # hapus teks tidak relevan\n",
    "    text = re.sub('[^a-zA-Z]','  ', text)\n",
    "    # hapus tanda baca\n",
    "    text = text.translate(str.maketrans(\"\",\"\",string.punctuation))\n",
    "    # hapus karakter kosong\n",
    "    text = text.strip()\n",
    "    # tokenize\n",
    "    text = word_tokenize(text)\n",
    "    # hapus stop words\n",
    "    text = [item for item in text if item not in stop_words]\n",
    "    # stemming\n",
    "    text = [stemmer.stem(word=w) for w in text]\n",
    "    # penggabungan setiap token menjadi kalimat utuh\n",
    "    text = ' '.join(text)                                            \n",
    "    return text\n",
    "\n",
    "data['ScanSentence'] = data['Sentence'].apply(ScanSentence)\n",
    "data['ScanSentence'].head()"
   ]
  }
 ],
 "metadata": {
  "kernelspec": {
   "display_name": "Python 3 (ipykernel)",
   "language": "python",
   "name": "python3"
  },
  "language_info": {
   "codemirror_mode": {
    "name": "ipython",
    "version": 3
   },
   "file_extension": ".py",
   "mimetype": "text/x-python",
   "name": "python",
   "nbconvert_exporter": "python",
   "pygments_lexer": "ipython3",
   "version": "3.9.13"
  }
 },
 "nbformat": 4,
 "nbformat_minor": 5
}
