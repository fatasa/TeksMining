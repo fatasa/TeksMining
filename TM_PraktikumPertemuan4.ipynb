{
 "cells": [
  {
   "cell_type": "markdown",
   "id": "6166bb09",
   "metadata": {},
   "source": [
    "**1. Case Folding**"
   ]
  },
  {
   "cell_type": "code",
   "execution_count": 1,
   "id": "547b9a54",
   "metadata": {},
   "outputs": [
    {
     "name": "stdout",
     "output_type": "stream",
     "text": [
      "berikut ini adalah 5 negara dengan pendidikan terbaik di dunia adalah korea selatan, jepang, singapura, hong kong, dan finlandia.\n"
     ]
    }
   ],
   "source": [
    "#Mengubah text menjadi lowercase\n",
    "kalimat = \"Berikut ini adalah 5 negara dengan pendidikan terbaik di dunia adalah Korea Selatan, Jepang, Singapura, Hong Kong, dan Finlandia.\"\n",
    "\n",
    "lower_case = kalimat.lower()\n",
    "\n",
    "print(lower_case)"
   ]
  },
  {
   "cell_type": "code",
   "execution_count": 2,
   "id": "d57d414d",
   "metadata": {},
   "outputs": [
    {
     "name": "stdout",
     "output_type": "stream",
     "text": [
      "Berikut ini adalah  negara dengan pendidikan terbaik di dunia adalah Korea Selatan, Jepang, Singapura, Hong Kong, dan Finlandia.\n"
     ]
    }
   ],
   "source": [
    "#Menghapus angka\n",
    "import re # impor modul regular expression\n",
    "\n",
    "kalimat = \"Berikut ini adalah 5 negara dengan pendidikan terbaik di dunia adalah Korea Selatan, Jepang, Singapura, Hong Kong, dan Finlandia.\"\n",
    "\n",
    "hasil = re.sub(r\"\\d+\", \"\", kalimat)\n",
    "\n",
    "print(hasil)"
   ]
  },
  {
   "cell_type": "code",
   "execution_count": 3,
   "id": "f44b81e8",
   "metadata": {},
   "outputs": [
    {
     "name": "stdout",
     "output_type": "stream",
     "text": [
      "Ini adalah contoh kalimat dengan tanda baca\n"
     ]
    }
   ],
   "source": [
    "#Menghapus tanda baca\n",
    "import string\n",
    "\n",
    "kalimat = \"Ini &adalah [contoh] kalimat? {dengan} tanda. baca?!!\"\n",
    "\n",
    "hasil = kalimat.translate(str.maketrans(\"\",\"\",string.punctuation))\n",
    "\n",
    "print(hasil)"
   ]
  },
  {
   "cell_type": "code",
   "execution_count": 4,
   "id": "8e6c7fc6",
   "metadata": {},
   "outputs": [
    {
     "name": "stdout",
     "output_type": "stream",
     "text": [
      "ini kalimat contoh\n"
     ]
    }
   ],
   "source": [
    "#Menghapus whitepace (karakter kosong)\n",
    "kalimat = \"\\t ini kalimat contoh\\t\"\n",
    "\n",
    "hasil = kalimat.strip()\n",
    "\n",
    "print(hasil)"
   ]
  },
  {
   "cell_type": "markdown",
   "id": "2c0f3adf",
   "metadata": {},
   "source": [
    "**2. Tokenizing**"
   ]
  },
  {
   "cell_type": "code",
   "execution_count": 5,
   "id": "58734a16",
   "metadata": {},
   "outputs": [
    {
     "name": "stdout",
     "output_type": "stream",
     "text": [
      "['rumah', 'idaman', 'adalah', 'rumah', 'yang', 'bersih']\n"
     ]
    }
   ],
   "source": [
    "kalimat = \"rumah idaman adalah rumah yang bersih\"\n",
    "\n",
    "pisah = kalimat.split()\n",
    "\n",
    "print(pisah)"
   ]
  },
  {
   "cell_type": "markdown",
   "id": "d0cb4ceb",
   "metadata": {},
   "source": [
    "**Tokenizing kata**"
   ]
  },
  {
   "cell_type": "code",
   "execution_count": 6,
   "id": "f170e6e8",
   "metadata": {},
   "outputs": [],
   "source": [
    "import nltk"
   ]
  },
  {
   "cell_type": "code",
   "execution_count": 7,
   "id": "68782774",
   "metadata": {},
   "outputs": [
    {
     "name": "stdout",
     "output_type": "stream",
     "text": [
      "['Andi', 'kerap', 'melakukan', 'transaksi', 'rutin', 'secara', 'daring', 'atau', 'online', '.']\n"
     ]
    }
   ],
   "source": [
    "#impor word_tokenize dari modul nltk\n",
    "from nltk.tokenize import word_tokenize\n",
    "\n",
    "kalimat = \"Andi kerap melakukan transaksi rutin secara daring atau online.\"\n",
    "\n",
    "tokens = nltk.tokenize.word_tokenize(kalimat)\n",
    "\n",
    "print(tokens)"
   ]
  },
  {
   "cell_type": "code",
   "execution_count": 8,
   "id": "571f8fe5",
   "metadata": {},
   "outputs": [
    {
     "name": "stdout",
     "output_type": "stream",
     "text": [
      "[('andi', 2), ('online', 2), ('kerap', 1), ('melakukan', 1), ('transaksi', 1), ('rutin', 1), ('secara', 1), ('daring', 1), ('atau', 1), ('menurut', 1), ('belanja', 1), ('lebih', 1), ('praktis', 1), ('murah', 1)]\n"
     ]
    }
   ],
   "source": [
    "from nltk.tokenize import word_tokenize\n",
    "from nltk.probability import FreqDist\n",
    "\n",
    "kalimat = \"Andi kerap melakukan transaksi rutin secara daring atau online. Menurut Andi belanja online lebih praktis & murah.\"\n",
    "\n",
    "kalimat = kalimat.translate(str.maketrans(\"\",\"\",string.punctuation)).lower()\n",
    "\n",
    "tokens = nltk.tokenize.word_tokenize(kalimat)\n",
    "\n",
    "kemunculan = nltk.FreqDist(tokens)\n",
    "\n",
    "print(kemunculan.most_common())"
   ]
  },
  {
   "cell_type": "code",
   "execution_count": 9,
   "id": "2aadec2e",
   "metadata": {},
   "outputs": [
    {
     "data": {
      "image/png": "[encoded data removed]",
      "text/plain": [
       "<Figure size 640x480 with 1 Axes>"
      ]
     },
     "metadata": {},
     "output_type": "display_data"
    }
   ],
   "source": [
    "import matplotlib.pyplot as plt\n",
    "\n",
    "kemunculan.plot(30,cumulative=False)\n",
    "\n",
    "plt.show()"
   ]
  },
  {
   "cell_type": "markdown",
   "id": "04876a01",
   "metadata": {},
   "source": [
    "**Tokenizing kalimat**"
   ]
  },
  {
   "cell_type": "code",
   "execution_count": 10,
   "id": "a75c9af7",
   "metadata": {},
   "outputs": [
    {
     "name": "stdout",
     "output_type": "stream",
     "text": [
      "['Andi kerap melakukan transaksi rutin secara daring atau online.', 'Menurut Andi belanja online lebih praktis & murah.']\n"
     ]
    }
   ],
   "source": [
    "#impor sent_tokenize dari modul nltk\n",
    "from nltk.tokenize import sent_tokenize\n",
    "\n",
    "kalimat = \"Andi kerap melakukan transaksi rutin secara daring atau online. Menurut Andi belanja online lebih praktis & murah.\"\n",
    "\n",
    "tokens = nltk.tokenize.sent_tokenize(kalimat)\n",
    "\n",
    "print(tokens)"
   ]
  },
  {
   "cell_type": "markdown",
   "id": "dedec50b",
   "metadata": {},
   "source": [
    "**3. Filtering (Stopword Removal)**"
   ]
  },
  {
   "cell_type": "markdown",
   "id": "d3e420d3",
   "metadata": {},
   "source": [
    "**Filtering dengan Sastrawi**"
   ]
  },
  {
   "cell_type": "code",
   "execution_count": 11,
   "id": "e74483cd",
   "metadata": {},
   "outputs": [
    {
     "name": "stdout",
     "output_type": "stream",
     "text": [
      "['andi', 'kerap', 'melakukan', 'transaksi', 'rutin', 'daring', 'online', 'andi', 'belanja', 'online', 'lebih', 'praktis', 'murah']\n"
     ]
    }
   ],
   "source": [
    "from Sastrawi.StopWordRemover.StopWordRemoverFactory import StopWordRemoverFactory\n",
    "from nltk.tokenize import word_tokenize\n",
    "\n",
    "factory = StopWordRemoverFactory()\n",
    "stopword = factory.create_stop_word_remover()\n",
    "\n",
    "kalimat = \"Andi kerap melakukan transaksi rutin secara daring atau online. Menurut Andi belanja online lebih praktis & murah.\"\n",
    "kalimat = kalimat.translate(str.maketrans(\"\",\"\",string.punctuation)).lower()\n",
    "\n",
    "stop = stopword.remove(kalimat)\n",
    "tokens = nltk.tokenize.word_tokenize(stop)\n",
    "\n",
    "print(tokens)"
   ]
  },
  {
   "cell_type": "markdown",
   "id": "58de155e",
   "metadata": {},
   "source": [
    "**4. Stemming**"
   ]
  },
  {
   "cell_type": "markdown",
   "id": "2b8855b7",
   "metadata": {},
   "source": [
    "**Stemming bahasa indonesia menggunakan Python Sastrawi**"
   ]
  },
  {
   "cell_type": "code",
   "execution_count": 12,
   "id": "d2b580f4",
   "metadata": {},
   "outputs": [
    {
     "name": "stdout",
     "output_type": "stream",
     "text": [
      "andi kerap laku transaksi rutin cara daring atau online turut andi belanja online lebih praktis murah\n"
     ]
    }
   ],
   "source": [
    "from Sastrawi.Stemmer.StemmerFactory import StemmerFactory\n",
    "\n",
    "factory = StemmerFactory()\n",
    "stemmer = factory.create_stemmer()\n",
    "\n",
    "kalimat = \"Andi kerap melakukan transaksi rutin secara daring atau online. Menurut Andi belanja online lebih praktis & murah.\"\n",
    "\n",
    "hasil = stemmer.stem(kalimat)\n",
    "\n",
    "print(hasil)"
   ]
  }
 ],
 "metadata": {
  "kernelspec": {
   "display_name": "Python 3 (ipykernel)",
   "language": "python",
   "name": "python3"
  },
  "language_info": {
   "codemirror_mode": {
    "name": "ipython",
    "version": 3
   },
   "file_extension": ".py",
   "mimetype": "text/x-python",
   "name": "python",
   "nbconvert_exporter": "python",
   "pygments_lexer": "ipython3",
   "version": "3.9.13"
  }
 },
 "nbformat": 4,
 "nbformat_minor": 5
}
